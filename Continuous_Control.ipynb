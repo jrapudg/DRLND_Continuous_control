{
 "cells": [
  {
   "cell_type": "markdown",
   "metadata": {},
   "source": [
    "# Continuous Control\n",
    "\n",
    "---\n",
    "\n",
    "In this notebook, you will learn how to use the Unity ML-Agents environment for the second project of the [Deep Reinforcement Learning Nanodegree](https://www.udacity.com/course/deep-reinforcement-learning-nanodegree--nd893) program.\n",
    "\n",
    "### 1. Start the Environment\n",
    "\n",
    "We begin by importing the necessary packages.  If the code cell below returns an error, please revisit the project instructions to double-check that you have installed [Unity ML-Agents](https://github.com/Unity-Technologies/ml-agents/blob/master/docs/Installation.md) and [NumPy](http://www.numpy.org/)."
   ]
  },
  {
   "cell_type": "code",
   "execution_count": 1,
   "metadata": {},
   "outputs": [],
   "source": [
    "from unityagents import UnityEnvironment\n",
    "import numpy as np\n",
    "import numpy as np\n",
    "import random\n",
    "import torch\n",
    "import numpy as np\n",
    "from collections import deque\n",
    "import matplotlib.pyplot as plt\n",
    "import time"
   ]
  },
  {
   "cell_type": "markdown",
   "metadata": {},
   "source": [
    "Next, we will start the environment!  **_Before running the code cell below_**, change the `file_name` parameter to match the location of the Unity environment that you downloaded.\n",
    "\n",
    "- **Mac**: `\"path/to/Reacher.app\"`\n",
    "- **Windows** (x86): `\"path/to/Reacher_Windows_x86/Reacher.exe\"`\n",
    "- **Windows** (x86_64): `\"path/to/Reacher_Windows_x86_64/Reacher.exe\"`\n",
    "- **Linux** (x86): `\"path/to/Reacher_Linux/Reacher.x86\"`\n",
    "- **Linux** (x86_64): `\"path/to/Reacher_Linux/Reacher.x86_64\"`\n",
    "- **Linux** (x86, headless): `\"path/to/Reacher_Linux_NoVis/Reacher.x86\"`\n",
    "- **Linux** (x86_64, headless): `\"path/to/Reacher_Linux_NoVis/Reacher.x86_64\"`\n",
    "\n",
    "For instance, if you are using a Mac, then you downloaded `Reacher.app`.  If this file is in the same folder as the notebook, then the line below should appear as follows:\n",
    "```\n",
    "env = UnityEnvironment(file_name=\"Reacher.app\")\n",
    "```"
   ]
  },
  {
   "cell_type": "code",
   "execution_count": 2,
   "metadata": {},
   "outputs": [
    {
     "name": "stderr",
     "output_type": "stream",
     "text": [
      "INFO:unityagents:\n",
      "'Academy' started successfully!\n",
      "Unity Academy name: Academy\n",
      "        Number of Brains: 1\n",
      "        Number of External Brains : 1\n",
      "        Lesson number : 0\n",
      "        Reset Parameters :\n",
      "\t\tgoal_speed -> 1.0\n",
      "\t\tgoal_size -> 5.0\n",
      "Unity brain name: ReacherBrain\n",
      "        Number of Visual Observations (per agent): 0\n",
      "        Vector Observation space type: continuous\n",
      "        Vector Observation space size (per agent): 33\n",
      "        Number of stacked Vector Observation: 1\n",
      "        Vector Action space type: continuous\n",
      "        Vector Action space size (per agent): 4\n",
      "        Vector Action descriptions: , , , \n"
     ]
    }
   ],
   "source": [
    "env = UnityEnvironment(file_name='Reacher.app')"
   ]
  },
  {
   "cell_type": "markdown",
   "metadata": {},
   "source": [
    "Environments contain **_brains_** which are responsible for deciding the actions of their associated agents. Here we check for the first brain available, and set it as the default brain we will be controlling from Python."
   ]
  },
  {
   "cell_type": "code",
   "execution_count": 3,
   "metadata": {},
   "outputs": [],
   "source": [
    "# get the default brain\n",
    "brain_name = env.brain_names[0]\n",
    "brain = env.brains[brain_name]"
   ]
  },
  {
   "cell_type": "markdown",
   "metadata": {},
   "source": [
    "### 2. Examine the State and Action Spaces\n",
    "\n",
    "In this environment, a double-jointed arm can move to target locations. A reward of `+0.1` is provided for each step that the agent's hand is in the goal location. Thus, the goal of your agent is to maintain its position at the target location for as many time steps as possible.\n",
    "\n",
    "The observation space consists of `33` variables corresponding to position, rotation, velocity, and angular velocities of the arm.  Each action is a vector with four numbers, corresponding to torque applicable to two joints.  Every entry in the action vector must be a number between `-1` and `1`.\n",
    "\n",
    "Run the code cell below to print some information about the environment."
   ]
  },
  {
   "cell_type": "code",
   "execution_count": 4,
   "metadata": {},
   "outputs": [
    {
     "name": "stdout",
     "output_type": "stream",
     "text": [
      "Number of agents: 20\n",
      "Size of each action: 4\n",
      "There are 20 agents. Each observes a state with length: 33\n",
      "The state for the first agent looks like: [ 0.00000000e+00 -4.00000000e+00  0.00000000e+00  1.00000000e+00\n",
      " -0.00000000e+00 -0.00000000e+00 -4.37113883e-08  0.00000000e+00\n",
      "  0.00000000e+00  0.00000000e+00  0.00000000e+00  0.00000000e+00\n",
      "  0.00000000e+00  0.00000000e+00 -1.00000000e+01  0.00000000e+00\n",
      "  1.00000000e+00 -0.00000000e+00 -0.00000000e+00 -4.37113883e-08\n",
      "  0.00000000e+00  0.00000000e+00  0.00000000e+00  0.00000000e+00\n",
      "  0.00000000e+00  0.00000000e+00  5.75471878e+00 -1.00000000e+00\n",
      "  5.55726624e+00  0.00000000e+00  1.00000000e+00  0.00000000e+00\n",
      " -1.68164849e-01]\n"
     ]
    }
   ],
   "source": [
    "# reset the environment\n",
    "env_info = env.reset(train_mode=True)[brain_name]\n",
    "\n",
    "# number of agents\n",
    "num_agents = len(env_info.agents)\n",
    "print('Number of agents:', num_agents)\n",
    "\n",
    "# size of each action\n",
    "action_size = brain.vector_action_space_size\n",
    "print('Size of each action:', action_size)\n",
    "\n",
    "# examine the state space \n",
    "states = env_info.vector_observations\n",
    "state_size = states.shape[1]\n",
    "print('There are {} agents. Each observes a state with length: {}'.format(states.shape[0], state_size))\n",
    "print('The state for the first agent looks like:', states[0])"
   ]
  },
  {
   "cell_type": "markdown",
   "metadata": {},
   "source": [
    "### 3. Take Random Actions in the Environment\n",
    "\n",
    "In the next code cell, you will learn how to use the Python API to control the agent and receive feedback from the environment.\n",
    "\n",
    "Once this cell is executed, you will watch the agent's performance, if it selects an action at random with each time step.  A window should pop up that allows you to observe the agent, as it moves through the environment.  \n",
    "\n",
    "Of course, as part of the project, you'll have to change the code so that the agent is able to use its experience to gradually choose better actions when interacting with the environment!"
   ]
  },
  {
   "cell_type": "code",
   "execution_count": null,
   "metadata": {},
   "outputs": [],
   "source": [
    "env_info = env.reset(train_mode=False)[brain_name]     # reset the environment    \n",
    "states = env_info.vector_observations                  # get the current state (for each agent)\n",
    "scores = np.zeros(num_agents)                          # initialize the score (for each agent)\n",
    "while True:\n",
    "    actions = np.random.randn(num_agents, action_size) # select an action (for each agent)\n",
    "    actions = np.clip(actions, -1, 1)                  # all actions between -1 and 1\n",
    "    env_info = env.step(actions)[brain_name]           # send all actions to tne environment\n",
    "    next_states = env_info.vector_observations         # get next state (for each agent)\n",
    "    rewards = env_info.rewards                         # get reward (for each agent)\n",
    "    dones = env_info.local_done                        # see if episode finished\n",
    "    scores += env_info.rewards                         # update the score (for each agent)\n",
    "    states = next_states                               # roll over states to next time step\n",
    "    if np.any(dones):                                  # exit loop if episode finished\n",
    "        break\n",
    "print('Total score (averaged over agents) this episode: {}'.format(np.mean(scores)))"
   ]
  },
  {
   "cell_type": "markdown",
   "metadata": {},
   "source": [
    "When finished, you can close the environment."
   ]
  },
  {
   "cell_type": "code",
   "execution_count": null,
   "metadata": {},
   "outputs": [],
   "source": [
    "env.close()"
   ]
  },
  {
   "cell_type": "markdown",
   "metadata": {},
   "source": [
    "### 4. It's Your Turn!\n",
    "\n",
    "Now it's your turn to train your own agent to solve the environment!  When training the environment, set `train_mode=True`, so that the line for resetting the environment looks like the following:\n",
    "```python\n",
    "env_info = env.reset(train_mode=True)[brain_name]\n",
    "```\n",
    "\n",
    "* Choose with is the algorithm you want to use by uncommenting.\n",
    "\n",
    "    ```\n",
    "    #For a DDPG agent\n",
    "    agent = DDPG_Agent(state_size=state_size, action_size=action_size, random_seed=0, num_agents=20)\n",
    "    ```\n",
    "\n",
    "    or\n",
    "\n",
    "    ```\n",
    "    #For a D4PG agent\n",
    "    agent = D4PG_Agent(state_size=state_size, action_size=action_size, random_seed=0)\n",
    "    ```"
   ]
  },
  {
   "cell_type": "code",
   "execution_count": 5,
   "metadata": {},
   "outputs": [],
   "source": [
    "from ddpg_agent import Agent as DDPG_Agent\n",
    "from d4pg_agent import Agent as D4PG_Agent\n",
    "\n",
    "import ddpg_agent\n",
    "import d4pg_agent"
   ]
  },
  {
   "cell_type": "code",
   "execution_count": 77,
   "metadata": {},
   "outputs": [],
   "source": [
    "# For a DDPG agent\n",
    "# agent = DDPG_Agent(state_size=state_size, action_size=action_size, random_seed=0, num_agents=20)\n",
    "\n",
    "# For a D4PG agent\n",
    "agent = D4PG_Agent(state_size=state_size, action_size=action_size, random_seed=0)"
   ]
  },
  {
   "cell_type": "code",
   "execution_count": 7,
   "metadata": {},
   "outputs": [
    {
     "name": "stderr",
     "output_type": "stream",
     "text": [
      "/Users/juanalvarez/Documents/Reinforcement_Learning/Exercises-deep-reinforcement-learning/p2_continuous-control/ddpg_agent.py:113: UserWarning: torch.nn.utils.clip_grad_norm is now deprecated in favor of torch.nn.utils.clip_grad_norm_.\n",
      "  torch.nn.utils.clip_grad_norm(self.critic_local.parameters(), 1)\n"
     ]
    },
    {
     "name": "stdout",
     "output_type": "stream",
     "text": [
      "(00m15s) Episode   1 \tScore:  0.80 (Max:  2.15 -- Min:  0.20)\t Window average:  0.80\n",
      "(00m15s) Episode   2 \tScore:  0.92 (Max:  2.68 -- Min:  0.07)\t Window average:  0.86\n",
      "(00m15s) Episode   3 \tScore:  0.80 (Max:  2.17 -- Min:  0.14)\t Window average:  0.84\n",
      "(00m15s) Episode   4 \tScore:  0.66 (Max:  1.79 -- Min:  0.00)\t Window average:  0.79\n",
      "(00m15s) Episode   5 \tScore:  0.94 (Max:  3.04 -- Min:  0.27)\t Window average:  0.82\n",
      "(00m15s) Episode   6 \tScore:  1.01 (Max:  2.67 -- Min:  0.25)\t Window average:  0.86\n",
      "(00m15s) Episode   7 \tScore:  0.65 (Max:  1.65 -- Min:  0.00)\t Window average:  0.83\n",
      "(00m16s) Episode   8 \tScore:  0.89 (Max:  1.92 -- Min:  0.07)\t Window average:  0.83\n",
      "(00m16s) Episode   9 \tScore:  1.12 (Max:  2.01 -- Min:  0.46)\t Window average:  0.87\n",
      "(00m17s) Episode  10 \tScore:  0.82 (Max:  1.68 -- Min:  0.07)\t Window average:  0.86\n",
      "(00m16s) Episode  11 \tScore:  0.99 (Max:  2.14 -- Min:  0.15)\t Window average:  0.87\n",
      "(00m16s) Episode  12 \tScore:  1.20 (Max:  3.49 -- Min:  0.48)\t Window average:  0.90\n",
      "(00m16s) Episode  13 \tScore:  1.50 (Max:  2.74 -- Min:  0.10)\t Window average:  0.95\n",
      "(00m16s) Episode  14 \tScore:  1.45 (Max:  3.00 -- Min:  0.19)\t Window average:  0.98\n",
      "(00m16s) Episode  15 \tScore:  1.38 (Max:  2.25 -- Min:  0.51)\t Window average:  1.01\n",
      "(00m16s) Episode  16 \tScore:  1.75 (Max:  3.54 -- Min:  0.24)\t Window average:  1.05\n",
      "(00m16s) Episode  17 \tScore:  1.71 (Max:  3.18 -- Min:  0.44)\t Window average:  1.09\n",
      "(00m16s) Episode  18 \tScore:  2.11 (Max:  3.54 -- Min:  0.58)\t Window average:  1.15\n",
      "(00m16s) Episode  19 \tScore:  3.39 (Max:  5.97 -- Min:  1.89)\t Window average:  1.27\n",
      "(00m16s) Episode  20 \tScore:  2.92 (Max:  6.97 -- Min:  1.17)\t Window average:  1.35\n",
      "(00m16s) Episode  21 \tScore:  3.75 (Max:  8.42 -- Min:  1.40)\t Window average:  1.46\n",
      "(00m16s) Episode  22 \tScore:  4.22 (Max:  7.11 -- Min:  1.99)\t Window average:  1.59\n",
      "(00m15s) Episode  23 \tScore:  4.37 (Max:  6.85 -- Min:  1.52)\t Window average:  1.71\n",
      "(00m16s) Episode  24 \tScore:  5.95 (Max:  9.73 -- Min:  1.93)\t Window average:  1.89\n",
      "(00m16s) Episode  25 \tScore:  5.83 (Max: 11.68 -- Min:  2.03)\t Window average:  2.04\n",
      "(00m16s) Episode  26 \tScore:  8.07 (Max: 12.14 -- Min:  3.57)\t Window average:  2.28\n",
      "(00m16s) Episode  27 \tScore: 13.23 (Max: 37.14 -- Min:  4.66)\t Window average:  2.68\n",
      "(00m16s) Episode  28 \tScore: 12.53 (Max: 22.64 -- Min:  4.73)\t Window average:  3.03\n",
      "(00m16s) Episode  29 \tScore: 18.96 (Max: 31.36 -- Min:  7.60)\t Window average:  3.58\n",
      "(00m16s) Episode  30 \tScore: 19.74 (Max: 34.08 -- Min:  9.98)\t Window average:  4.12\n",
      "(00m16s) Episode  31 \tScore: 28.57 (Max: 39.57 -- Min: 17.24)\t Window average:  4.91\n",
      "(00m16s) Episode  32 \tScore: 30.72 (Max: 39.07 -- Min: 17.32)\t Window average:  5.72\n",
      "(00m16s) Episode  33 \tScore: 32.90 (Max: 39.66 -- Min: 22.65)\t Window average:  6.54\n",
      "(00m16s) Episode  34 \tScore: 34.60 (Max: 39.56 -- Min: 27.56)\t Window average:  7.37\n",
      "(00m16s) Episode  35 \tScore: 34.38 (Max: 38.67 -- Min: 27.14)\t Window average:  8.14\n",
      "(00m16s) Episode  36 \tScore: 34.29 (Max: 38.89 -- Min: 24.41)\t Window average:  8.86\n",
      "(00m16s) Episode  37 \tScore: 35.89 (Max: 39.25 -- Min: 32.01)\t Window average:  9.59\n",
      "(00m16s) Episode  38 \tScore: 35.66 (Max: 38.69 -- Min: 29.06)\t Window average: 10.28\n",
      "(00m16s) Episode  39 \tScore: 32.53 (Max: 39.23 -- Min: 26.77)\t Window average: 10.85\n",
      "(00m16s) Episode  40 \tScore: 34.23 (Max: 38.31 -- Min: 29.03)\t Window average: 11.44\n",
      "(00m16s) Episode  41 \tScore: 33.75 (Max: 39.66 -- Min: 25.33)\t Window average: 11.98\n",
      "(00m16s) Episode  42 \tScore: 34.34 (Max: 38.88 -- Min: 24.17)\t Window average: 12.51\n",
      "(00m16s) Episode  43 \tScore: 36.35 (Max: 39.65 -- Min: 22.47)\t Window average: 13.07\n",
      "(00m16s) Episode  44 \tScore: 35.73 (Max: 39.51 -- Min: 25.78)\t Window average: 13.58\n",
      "(00m16s) Episode  45 \tScore: 36.02 (Max: 39.66 -- Min: 25.72)\t Window average: 14.08\n",
      "(00m16s) Episode  46 \tScore: 36.37 (Max: 39.65 -- Min: 23.93)\t Window average: 14.56\n",
      "(00m16s) Episode  47 \tScore: 36.58 (Max: 39.64 -- Min: 32.14)\t Window average: 15.03\n",
      "(00m16s) Episode  48 \tScore: 36.85 (Max: 39.33 -- Min: 26.13)\t Window average: 15.49\n",
      "(00m16s) Episode  49 \tScore: 37.66 (Max: 39.64 -- Min: 30.53)\t Window average: 15.94\n",
      "(00m16s) Episode  50 \tScore: 38.49 (Max: 39.63 -- Min: 34.00)\t Window average: 16.39\n",
      "(00m16s) Episode  51 \tScore: 39.11 (Max: 39.68 -- Min: 36.75)\t Window average: 16.84\n",
      "(00m16s) Episode  52 \tScore: 38.93 (Max: 39.65 -- Min: 35.36)\t Window average: 17.26\n",
      "(00m16s) Episode  53 \tScore: 38.51 (Max: 39.64 -- Min: 31.91)\t Window average: 17.66\n",
      "(00m16s) Episode  54 \tScore: 39.11 (Max: 39.65 -- Min: 37.68)\t Window average: 18.06\n",
      "(00m16s) Episode  55 \tScore: 39.20 (Max: 39.64 -- Min: 36.55)\t Window average: 18.44\n",
      "(00m16s) Episode  56 \tScore: 38.67 (Max: 39.66 -- Min: 35.59)\t Window average: 18.81\n",
      "(00m16s) Episode  57 \tScore: 37.76 (Max: 39.66 -- Min: 32.05)\t Window average: 19.14\n",
      "(00m16s) Episode  58 \tScore: 37.68 (Max: 39.55 -- Min: 33.94)\t Window average: 19.46\n",
      "(00m16s) Episode  59 \tScore: 36.75 (Max: 39.57 -- Min: 30.57)\t Window average: 19.75\n",
      "(00m16s) Episode  60 \tScore: 36.81 (Max: 39.58 -- Min: 29.32)\t Window average: 20.04\n",
      "(00m16s) Episode  61 \tScore: 36.98 (Max: 39.66 -- Min: 33.27)\t Window average: 20.31\n",
      "(00m16s) Episode  62 \tScore: 36.53 (Max: 39.09 -- Min: 29.47)\t Window average: 20.57\n",
      "(00m16s) Episode  63 \tScore: 37.41 (Max: 39.33 -- Min: 32.28)\t Window average: 20.84\n",
      "(00m16s) Episode  64 \tScore: 37.59 (Max: 39.63 -- Min: 33.05)\t Window average: 21.10\n",
      "(00m16s) Episode  65 \tScore: 36.54 (Max: 39.56 -- Min: 29.22)\t Window average: 21.34\n",
      "(00m16s) Episode  66 \tScore: 30.56 (Max: 39.46 -- Min: 22.73)\t Window average: 21.48\n",
      "(00m16s) Episode  67 \tScore: 27.73 (Max: 32.88 -- Min: 19.31)\t Window average: 21.57\n",
      "(00m16s) Episode  68 \tScore: 35.13 (Max: 39.24 -- Min: 26.29)\t Window average: 21.77\n",
      "(00m16s) Episode  69 \tScore: 35.99 (Max: 39.17 -- Min: 30.75)\t Window average: 21.98\n",
      "(00m16s) Episode  70 \tScore: 30.13 (Max: 33.59 -- Min: 24.66)\t Window average: 22.10\n",
      "(00m16s) Episode  71 \tScore: 31.63 (Max: 38.93 -- Min: 20.92)\t Window average: 22.23\n",
      "(00m16s) Episode  72 \tScore: 32.06 (Max: 36.66 -- Min: 21.06)\t Window average: 22.37\n",
      "(00m16s) Episode  73 \tScore: 29.35 (Max: 39.22 -- Min: 16.34)\t Window average: 22.46\n",
      "(00m16s) Episode  74 \tScore: 31.06 (Max: 35.93 -- Min: 25.69)\t Window average: 22.58\n",
      "(00m16s) Episode  75 \tScore: 33.91 (Max: 37.07 -- Min: 27.06)\t Window average: 22.73\n",
      "(00m16s) Episode  76 \tScore: 34.80 (Max: 38.10 -- Min: 29.41)\t Window average: 22.89\n",
      "(00m16s) Episode  77 \tScore: 35.91 (Max: 39.59 -- Min: 30.71)\t Window average: 23.06\n",
      "(00m16s) Episode  78 \tScore: 34.73 (Max: 39.59 -- Min: 27.19)\t Window average: 23.21\n",
      "(00m16s) Episode  79 \tScore: 32.34 (Max: 38.71 -- Min: 23.73)\t Window average: 23.32\n",
      "(00m16s) Episode  80 \tScore: 36.43 (Max: 39.54 -- Min: 31.87)\t Window average: 23.49\n",
      "(00m17s) Episode  81 \tScore: 36.84 (Max: 39.60 -- Min: 23.25)\t Window average: 23.65\n",
      "(00m16s) Episode  82 \tScore: 34.10 (Max: 39.33 -- Min: 28.51)\t Window average: 23.78\n",
      "(00m16s) Episode  83 \tScore: 35.42 (Max: 39.58 -- Min: 25.72)\t Window average: 23.92\n",
      "(00m16s) Episode  84 \tScore: 33.29 (Max: 39.30 -- Min: 22.58)\t Window average: 24.03\n",
      "(00m16s) Episode  85 \tScore: 37.37 (Max: 39.48 -- Min: 31.37)\t Window average: 24.19\n",
      "(00m16s) Episode  86 \tScore: 32.83 (Max: 39.42 -- Min: 20.83)\t Window average: 24.29\n",
      "(00m16s) Episode  87 \tScore: 28.69 (Max: 33.95 -- Min: 22.06)\t Window average: 24.34\n",
      "(00m16s) Episode  88 \tScore: 23.83 (Max: 32.01 -- Min: 19.12)\t Window average: 24.33\n",
      "(00m16s) Episode  89 \tScore: 24.59 (Max: 30.09 -- Min: 19.99)\t Window average: 24.34\n",
      "(00m16s) Episode  90 \tScore: 26.53 (Max: 31.33 -- Min: 19.98)\t Window average: 24.36\n",
      "(00m16s) Episode  91 \tScore: 24.27 (Max: 27.59 -- Min: 21.14)\t Window average: 24.36\n",
      "(00m16s) Episode  92 \tScore: 25.24 (Max: 30.35 -- Min: 12.00)\t Window average: 24.37\n",
      "(00m16s) Episode  93 \tScore: 28.26 (Max: 39.51 -- Min: 13.83)\t Window average: 24.41\n",
      "(00m16s) Episode  94 \tScore: 31.81 (Max: 39.51 -- Min: 20.72)\t Window average: 24.49\n",
      "(00m16s) Episode  95 \tScore: 33.94 (Max: 39.41 -- Min: 18.91)\t Window average: 24.59\n",
      "(00m16s) Episode  96 \tScore: 36.60 (Max: 39.49 -- Min: 29.27)\t Window average: 24.71\n",
      "(00m16s) Episode  97 \tScore: 34.89 (Max: 39.59 -- Min: 21.22)\t Window average: 24.82\n"
     ]
    },
    {
     "name": "stdout",
     "output_type": "stream",
     "text": [
      "(00m17s) Episode  98 \tScore: 30.71 (Max: 38.43 -- Min: 27.04)\t Window average: 24.88\n",
      "(00m16s) Episode  99 \tScore: 27.08 (Max: 30.65 -- Min: 23.69)\t Window average: 24.90\n",
      "(00m16s) Episode 100 \tScore: 25.41 (Max: 32.00 -- Min:  6.65)\t Window average: 24.91\n",
      "(00m16s) Episode 101 \tScore: 24.74 (Max: 39.51 -- Min: 16.03)\t Window average: 25.15\n",
      "(00m16s) Episode 102 \tScore: 25.05 (Max: 38.65 -- Min: 16.54)\t Window average: 25.39\n",
      "(00m16s) Episode 103 \tScore: 24.10 (Max: 37.72 -- Min: 11.16)\t Window average: 25.62\n",
      "(00m16s) Episode 104 \tScore: 18.35 (Max: 26.45 -- Min: 10.57)\t Window average: 25.80\n",
      "(00m16s) Episode 105 \tScore: 27.52 (Max: 35.14 -- Min: 21.20)\t Window average: 26.06\n",
      "(00m16s) Episode 106 \tScore: 29.58 (Max: 38.06 -- Min: 20.44)\t Window average: 26.35\n",
      "(00m17s) Episode 107 \tScore: 28.21 (Max: 32.91 -- Min: 18.23)\t Window average: 26.62\n",
      "(00m16s) Episode 108 \tScore: 29.16 (Max: 35.29 -- Min: 14.85)\t Window average: 26.91\n",
      "(00m17s) Episode 109 \tScore: 34.33 (Max: 38.13 -- Min: 29.32)\t Window average: 27.24\n",
      "(00m17s) Episode 110 \tScore: 34.62 (Max: 36.90 -- Min: 31.90)\t Window average: 27.58\n",
      "(00m17s) Episode 111 \tScore: 31.29 (Max: 35.13 -- Min: 28.80)\t Window average: 27.88\n",
      "(00m17s) Episode 112 \tScore: 33.22 (Max: 38.63 -- Min: 26.76)\t Window average: 28.20\n",
      "(00m17s) Episode 113 \tScore: 37.03 (Max: 39.47 -- Min: 34.08)\t Window average: 28.56\n",
      "(00m17s) Episode 114 \tScore: 36.02 (Max: 38.88 -- Min: 34.12)\t Window average: 28.90\n",
      "(00m17s) Episode 115 \tScore: 36.96 (Max: 39.65 -- Min: 35.32)\t Window average: 29.26\n",
      "(00m17s) Episode 116 \tScore: 37.28 (Max: 39.59 -- Min: 33.87)\t Window average: 29.61\n",
      "(00m17s) Episode 117 \tScore: 32.32 (Max: 39.34 -- Min: 28.29)\t Window average: 29.92\n",
      "(00m17s) Episode 118 \tScore: 34.17 (Max: 36.07 -- Min: 32.60)\t Window average: 30.24\n",
      "\n",
      "This environment was solved in 18 episodes!\tWindow Average Score: 30.24 over 100 episodes \tElapsed time: 00h32m42s\n",
      "\n",
      "Saving model ... done.\n"
     ]
    }
   ],
   "source": [
    "## Define the training function\n",
    "TARGET_SCORE = 30\n",
    "WINDOW_SIZE = 100\n",
    "\n",
    "def training(n_episodes=2000, max_t=1000):\n",
    "    \"\"\"Deep Deterministic Policy Gradients (DDPG) or \n",
    "    Distributional Distributed Deep Deterministic Policy Gradients (D4PG).\n",
    "    \n",
    "    Params\n",
    "    ======\n",
    "        n_episodes (int): maximum number of training episodes\n",
    "        max_t (int): maximum number of timesteps per episode\n",
    "    \"\"\"\n",
    "    scores = []      # episodic scores\n",
    "    scores_window = deque(maxlen=WINDOW_SIZE)\n",
    "    window_avg = []  # average over 100 episodes for 20 agents (mean score of episode)\n",
    "\n",
    "    ## Perform n_episodes of training\n",
    "    absolute_start_time = time.time()\n",
    "    \n",
    "    for i_episode in range(1, n_episodes+1):\n",
    "        episode_start_time = time.time()\n",
    "        agent.reset()\n",
    "        env_info = env.reset(train_mode=True)[brain_name]\n",
    "        states = env_info.vector_observations  # get the next states\n",
    "        episode_scores = np.zeros(num_agents)           # rewards per episode for each agent\n",
    "\n",
    "        for t in range(1, max_t+1):\n",
    "            actions = agent.act(states)                 # select the next action for each agent\n",
    "            env_info = env.step(actions)[brain_name]    # send the actions to the environment\n",
    "            rewards = env_info.rewards                  # get the rewards\n",
    "            next_states = env_info.vector_observations  # get the next states\n",
    "            dones = env_info.local_done                        # see if episode finished\n",
    "            # Send the results to the Agent\n",
    "            #for (state, action, reward, next_state, done) in zip(states, actions, rewards, next_states, dones):\n",
    "            #    agent.step(state, action, reward, next_state, done, t)\n",
    "            agent.step(states, actions, rewards, next_states, dones, t)\n",
    "            # Update the variables for the next iteration\n",
    "            states = next_states\n",
    "            episode_scores += rewards\n",
    "            \n",
    "            if np.any(dones):                                  # exit loop if episode finished\n",
    "                break\n",
    "            \n",
    "\n",
    "        # Store the rewards and calculate the moving average\n",
    "        scores.append(episode_scores.tolist())\n",
    "        scores_window.append(episode_scores.tolist())\n",
    "        window_avg.append(np.mean(scores_window, axis = 0))\n",
    "        # Calculate the elapsed time\n",
    "        time_episode = time.time() - episode_start_time\n",
    "        time_elapsed = time.time() - absolute_start_time\n",
    "        time_episode_str = time.strftime('%Mm%Ss', time.gmtime(time_episode))\n",
    "\n",
    "        ## Print the results for this episode\n",
    "        print('({}) Episode {:3d} \\tScore: {:5.2f} (Max: {:5.2f} -- Min: {:5.2f})\\t Window average: {:5.2f}' \\\n",
    "              .format(time_episode_str, i_episode, episode_scores.mean(),\n",
    "                      episode_scores.max(), episode_scores.min(),\n",
    "                      window_avg[-1].mean()))\n",
    "\n",
    "        ## Check if the environment has been solved\n",
    "        if window_avg[-1].mean() >= TARGET_SCORE and i_episode >= WINDOW_SIZE:\n",
    "            time_elapsed_str = time.strftime('%Hh%Mm%Ss', time.gmtime(time_elapsed))\n",
    "            print('\\nThis environment was solved in {:d} episodes!\\t' \\\n",
    "                  'Window Average Score: {:.2f} over {} episodes \\tElapsed time: {}'\n",
    "                  .format(i_episode-WINDOW_SIZE, window_avg[-1].mean(), WINDOW_SIZE,\n",
    "                          time_elapsed_str))\n",
    "            \n",
    "            ## Save the model along with some training information\n",
    "            checkpoint = {\n",
    "                'actor_dict': agent.actor_local.state_dict(),\n",
    "                'critic_dict': agent.critic_local.state_dict(),\n",
    "                'ddpg_params': {\n",
    "                    'batch_size': ddpg_agent.BATCH_SIZE,\n",
    "                    'buffer_size': ddpg_agent.BUFFER_SIZE,\n",
    "                    'gamma': ddpg_agent.GAMMA,\n",
    "                    'lr_actor': ddpg_agent.LR_ACTOR,\n",
    "                    'lr_critic': ddpg_agent.LR_CRITIC,\n",
    "                    'tau': ddpg_agent.TAU,\n",
    "                    },\n",
    "                'episodes': i_episode,\n",
    "                'elapsed_time': time_elapsed_str,\n",
    "                'scores': scores,\n",
    "                'moving_avg': window_avg,\n",
    "                }\n",
    "            print('\\nSaving model ...', end=' ')\n",
    "            torch.save(checkpoint, 'checkpoint_test.pt')\n",
    "            print('done.')\n",
    "\n",
    "            break\n",
    "\n",
    "    return scores, window_avg\n",
    "\n",
    "scores, moving_avg = training()"
   ]
  },
  {
   "cell_type": "markdown",
   "metadata": {},
   "source": [
    "### 5. Evaluation\n",
    "\n",
    "Here, you can evaluate your agent loading your trained model.\n",
    "\n",
    "* You should also change the checkpoint name\n",
    "   ```\n",
    "    #For a DDPG agent\n",
    "    checkpoint = torch.load('checkpoint_learning.pt',map_location={'cuda:0': 'cpu'})\n",
    "   ```\n",
    "   * checkpoint_learning.pt\n",
    "   * checkpoint_learning_35.pt\n",
    "   * checkpoint_128_128.pt\n",
    "   * checkpoint_2_1.pt\n",
    "  \n",
    "    or\n",
    "\n",
    "    ```\n",
    "    #For a D4PG agent\n",
    "    checkpoint = torch.load('checkpoint_d4pg_35.pt',map_location={'cuda:0': 'cpu'}`\n",
    "   ```\n",
    "   * checkpoint_d4pg_35.pt\n",
    "   * checkpoint_d4pg_38.pt"
   ]
  },
  {
   "cell_type": "code",
   "execution_count": 84,
   "metadata": {},
   "outputs": [],
   "source": [
    "#For a DDPG agent\n",
    "#checkpoint = torch.load('checkpoint_learning.pt',map_location={'cuda:0': 'cpu'})\n",
    "#checkpoint = torch.load('checkpoint_learning_35.pt',map_location={'cuda:0': 'cpu'})\n",
    "#checkpoint = torch.load('checkpoint_128_128.pt',map_location={'cuda:0': 'cpu'})\n",
    "#checkpoint = torch.load('checkpoint_2_1.pt',map_location={'cuda:0': 'cpu'})\n",
    "\n",
    "#For a D4PG agent\n",
    "#checkpoint = torch.load('checkpoint_d4pg_35.pt',map_location={'cuda:0': 'cpu'})\n",
    "checkpoint = torch.load('checkpoint_d4pg_38.pt',map_location={'cuda:0': 'cpu'})\n",
    "\n",
    "agent.actor_local.load_state_dict(checkpoint['actor_dict'])"
   ]
  },
  {
   "cell_type": "code",
   "execution_count": 79,
   "metadata": {},
   "outputs": [],
   "source": [
    "def print_checkpoint(checkpoint):\n",
    "    print(\"BATCH_SIZE: {}\\nBUFFER_SIZE: {}\\nGAMMA: {}\\nLR_ACTOR: {}\\\n",
    "          \\nLR_CRITIC: {}\\nTAU: {}\\nsolved in: {} episodes\\\n",
    "          \\ntraining time: {}\".format(checkpoint['ddpg_params']['batch_size'],\n",
    "                                    checkpoint['ddpg_params']['buffer_size'],\n",
    "                                    checkpoint['ddpg_params']['gamma'],\n",
    "                                    checkpoint['ddpg_params']['lr_actor'],\n",
    "                                    checkpoint['ddpg_params']['lr_critic'],\n",
    "                                    checkpoint['ddpg_params']['tau'],\n",
    "                                    checkpoint['episodes']-100,\n",
    "                                    checkpoint['elapsed_time']))"
   ]
  },
  {
   "cell_type": "code",
   "execution_count": 42,
   "metadata": {},
   "outputs": [
    {
     "name": "stdout",
     "output_type": "stream",
     "text": [
      "Total score (averaged over agents) this episode: 37.977499151136726\n"
     ]
    }
   ],
   "source": [
    "env_info = env.reset(train_mode=False)[brain_name]     # reset the environment    \n",
    "states = env_info.vector_observations                  # get the current state (for each agent)\n",
    "scores = np.zeros(num_agents)                          # initialize the score (for each agent)\n",
    "while True:\n",
    "    actions = agent.act(states, add_noise=False)                  # all actions between -1 and 1\n",
    "    env_info = env.step(actions)[brain_name]           # send all actions to tne environment\n",
    "    next_states = env_info.vector_observations         # get next state (for each agent)\n",
    "    rewards = env_info.rewards                         # get reward (for each agent)\n",
    "    dones = env_info.local_done                        # see if episode finished\n",
    "    scores += env_info.rewards                         # update the score (for each agent)\n",
    "    states = next_states                               # roll over states to next time step\n",
    "    if np.any(dones):                                  # exit loop if episode finished\n",
    "        break\n",
    "print('Total score (averaged over agents) this episode: {}'.format(np.mean(scores)))"
   ]
  },
  {
   "cell_type": "code",
   "execution_count": null,
   "metadata": {},
   "outputs": [],
   "source": [
    "env.close()"
   ]
  },
  {
   "cell_type": "code",
   "execution_count": 83,
   "metadata": {},
   "outputs": [
    {
     "name": "stdout",
     "output_type": "stream",
     "text": [
      "BATCH_SIZE: 128\n",
      "BUFFER_SIZE: 100000\n",
      "GAMMA: 0.99\n",
      "LR_ACTOR: 0.001          \n",
      "LR_CRITIC: 0.001\n",
      "TAU: 0.001\n",
      "solved in: 63 episodes          \n",
      "training time: 03h53m10s\n"
     ]
    }
   ],
   "source": [
    "print_checkpoint(checkpoint)"
   ]
  },
  {
   "cell_type": "code",
   "execution_count": 86,
   "metadata": {},
   "outputs": [
    {
     "data": {
      "image/png": "[encoded data removed]",
      "text/plain": [
       "<Figure size 1440x720 with 1 Axes>"
      ]
     },
     "metadata": {
      "needs_background": "light"
     },
     "output_type": "display_data"
    }
   ],
   "source": [
    "TARGET = 38\n",
    "\n",
    "scores_mean = np.mean(checkpoint['scores'], axis=1)\n",
    "moving_avg_mean = np.mean(checkpoint['moving_avg'], axis=1)\n",
    "\n",
    "target = [TARGET] * len(checkpoint['scores']) \n",
    "\n",
    "# Plot the main graph with the scores and moving average\n",
    "fig = plt.figure(figsize=(20,10))\n",
    "fig.suptitle('Rewards', fontsize='xx-large')\n",
    "\n",
    "ax = fig.add_subplot(111)\n",
    "ax.plot(scores_mean, label='Score', color='Green')\n",
    "ax.plot(moving_avg_mean, label='Window Average',\n",
    "        color='LightBlue', linewidth=3)\n",
    "ax.plot(target, label='Target', color='Red', linewidth=1 )\n",
    "ax.set_ylabel('Score', fontsize='xx-large')\n",
    "ax.set_xlabel('Episode', fontsize='xx-large')\n",
    "ax.legend(fontsize='xx-large', loc='lower right')\n",
    "\n",
    "plt.show()"
   ]
  },
  {
   "cell_type": "code",
   "execution_count": null,
   "metadata": {},
   "outputs": [],
   "source": []
  }
 ],
 "metadata": {
  "kernelspec": {
   "display_name": "drlnd",
   "language": "python",
   "name": "drlnd"
  },
  "language_info": {
   "codemirror_mode": {
    "name": "ipython",
    "version": 3
   },
   "file_extension": ".py",
   "mimetype": "text/x-python",
   "name": "python",
   "nbconvert_exporter": "python",
   "pygments_lexer": "ipython3",
   "version": "3.6.10"
  }
 },
 "nbformat": 4,
 "nbformat_minor": 2
}
